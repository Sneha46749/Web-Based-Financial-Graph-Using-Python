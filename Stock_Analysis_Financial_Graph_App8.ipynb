{
 "cells": [
  {
   "cell_type": "code",
   "execution_count": null,
   "metadata": {},
   "outputs": [],
   "source": [
    "from pandas_datareader import data\n",
    "import datetime\n",
    "from bokeh.plotting import figure, show, output_file\n",
    "\n",
    "start=datetime.datetime(2015,11,1)\n",
    "end=datetime.datetime(2016,3,10)\n",
    "\n",
    "df=data.DataReader(name=\"GOOG\",data_source=\"google\",start=start,end=end)\n",
    "df\n",
    "\n",
    "def inc_dec(c,o):\n",
    "    if c>o:\n",
    "        value=\"Increase\"\n",
    "    elif c<o:\n",
    "        value=\"Decrease\"\n",
    "    else:\n",
    "        value=\"Equal\"\n",
    "    return value\n",
    "\n",
    "df[\"Status\"]=[inc_dec(c,o) for c,o in zip(df.Close,df.Open)]\n",
    "df[\"Middle\"]=(df.Close+df.Open)/2\n",
    "df[\"Height\"]=abs(df.Close-df.Open)\n",
    "\n",
    "p=figure(x_type_axis='datetime',width=1000,height=300,sizing_mode=\"scale_width\")\n",
    "#Sizing_mode makes the chart to adjust according to the window size\n",
    "\n",
    "p.title(\"Candlestick Chart\")\n",
    "\n",
    "hour_12=12*60*60*1000\n",
    "\n",
    "\"\"\"p.rect(x,y,width,height) and abs function is used to make the number positive\"\"\"\n",
    "p.rect(df.index[df.Status==\"Increase\"], df.Middle[df.Status==\"Increase\"],\n",
    "       hour_12, df.Height[df.Status==\"Increase\"], fill_color=\"#CCFFF\", line_color=\"black\")\n",
    "\n",
    "p.rect(df.index[df.Status==\"Decrease\"], df.Middle[df.Status==\"Decrease\"],\n",
    "       hour_12, df.Height[df.Status==\"Decrease\"], fill_color=\"#FF3333\", line_color=\"black\")\n",
    "\n",
    "output_file(\"CSChartRect2.html\")\n",
    "show(p)\n",
    "\n"
   ]
  }
 ],
 "metadata": {
  "kernelspec": {
   "display_name": "Python 3",
   "language": "python",
   "name": "python3"
  },
  "language_info": {
   "codemirror_mode": {
    "name": "ipython",
    "version": 3
   },
   "file_extension": ".py",
   "mimetype": "text/x-python",
   "name": "python",
   "nbconvert_exporter": "python",
   "pygments_lexer": "ipython3",
   "version": "3.8.4"
  }
 },
 "nbformat": 4,
 "nbformat_minor": 4
}
