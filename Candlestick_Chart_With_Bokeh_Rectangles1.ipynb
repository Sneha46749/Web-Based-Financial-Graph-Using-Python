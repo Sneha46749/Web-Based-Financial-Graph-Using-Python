{
 "cells": [
  {
   "cell_type": "code",
   "execution_count": null,
   "metadata": {},
   "outputs": [],
   "source": [
    "from pandas_datareader import data\n",
    "import datetime\n",
    "from bokeh.plotting import figure, show, output_file\n",
    "\n",
    "start=datetime.datetime(2016,3,1)\n",
    "end=datetime.datetime(2016,3,10)\n",
    "\n",
    "df=data.DataReader(name=\"GOOG\",data_source=\"google\",start=start,end=end)\n",
    "df\n",
    "\n",
    "date_increase=df.index[df.Close > df.Open]  #To access the rows and filtering of rows\n",
    "date_decrease=df.index[df.Close < df.Open]\n",
    "\n",
    "p=figure(x_type_axis='datetime',width=1000,height=300)\n",
    "p.title(\"Candlestick Chart\")\n",
    "\n",
    "hour_12=12*60*60*1000\n",
    "\n",
    "\"\"\"p.rect(x,y,width,height) and abs function is used to make the number positive\"\"\"\n",
    "p.rect(date_increase, (df.Close+df.Open)/2,\n",
    "       hour_12, abs(df.Close-df.Open), fill_color=\"green\", line_color=\"black\")\n",
    "\n",
    "p.rect(date_decrease, (df.Close+df.Open)/2,\n",
    "       hour_12, abs(df.Close-df.Open), fill_color=\"red\", line_color=\"black\")\n",
    "\n",
    "output_file(\"CSChartRect1.html\")\n",
    "show(p)\n",
    "\n"
   ]
  }
 ],
 "metadata": {
  "kernelspec": {
   "display_name": "Python 3",
   "language": "python",
   "name": "python3"
  },
  "language_info": {
   "codemirror_mode": {
    "name": "ipython",
    "version": 3
   },
   "file_extension": ".py",
   "mimetype": "text/x-python",
   "name": "python",
   "nbconvert_exporter": "python",
   "pygments_lexer": "ipython3",
   "version": "3.8.4"
  }
 },
 "nbformat": 4,
 "nbformat_minor": 4
}